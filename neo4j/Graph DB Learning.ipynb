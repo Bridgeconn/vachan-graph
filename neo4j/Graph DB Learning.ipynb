{
 "cells": [
  {
   "cell_type": "markdown",
   "metadata": {},
   "source": [
    "# Learning Neo4j and Py2neo"
   ]
  },
  {
   "cell_type": "markdown",
   "metadata": {},
   "source": [
    "### To start and stop Neo4j server\n",
    "\n",
    "Because there was an error showing at the start of server saying pid was not created ( and a bunch of othet issues which might have been because of this) this was done, manually, Which seems to have become a work around for the issue\n",
    "\n",
    "` cd /var/run`\n",
    "\n",
    "` sudo mkdir neo4j`\n",
    "\n",
    "\n",
    "To start the server\n",
    "\n",
    "` sudo neo4j start`\n",
    "\n",
    "\n",
    "To access the neo4j-browser `http://localhost:7474/browser`\n",
    "\n",
    "default user : neo4j\n",
    "\n",
    "default password: neo4j, new password I set: password\n",
    "\n",
    "To stop the server\n",
    "\n",
    "` sudo neo4j stop`\n"
   ]
  },
  {
   "cell_type": "markdown",
   "metadata": {},
   "source": [
    "## Basic Design of a bible Graph\n",
    "\n",
    "![title](Greek_linked_to_TW_Strongs2.png)\n"
   ]
  },
  {
   "cell_type": "markdown",
   "metadata": {},
   "source": [
    "## Useful Cypher queries\n",
    "\n",
    "To match a path from bible node to words of a verse\n",
    "\n",
    "```\n",
    "MATCH p=((bib:BIBLE)<-[:BELONGS_TO]-(b:BOOK)<-[:BELONGS_TO]-(c:CHAPTER)<-[:BELONGS_TO]-(v:VERSE)<-[:BELONGS_TO]-(w:WORD))\n",
    "WHERE bib.name='Hindi_IRV4' and b.number='40' and c.number='5' and v.number='3' \n",
    "RETURN p\n",
    "```\n",
    "\n",
    "To retrieve just the text, from the above verse\n",
    "\n",
    "```\n",
    "MATCH p=((bib:BIBLE)<-[:BELONGS_TO]-(b:BOOK)<-[:BELONGS_TO]-(c:CHAPTER)<-[:BELONGS_TO]-(v:VERSE)<-[:BELONGS_TO]-(w:WORD))\n",
    "WHERE bib.name='Hindi_IRV4' and b.number='40' and c.number='5' and v.number='3' \n",
    "RETURN w.literalform ORDER BY w.position\n",
    "```\n",
    "\n",
    "\n",
    "To view UGNT bible with links to Translation words and Strong Numbers\n",
    "\n",
    "```\n",
    "MATCH p=((bib:BIBLE)<-[:BELONGS_TO]-(:BOOK)<-[:BELONGS_TO]-(:CHAPTER)<-[:BELONGS_TO]-(:VERSE)<-[:BELONGS_TO]-(w:WORD)-[:IS_TW]->(:TRANSLATION_WORD)-[:BELONGS_TO]->(:DICTIONARY))\n",
    "WITH p,w\n",
    "MATCH (w)-[:HAS_LEMMA]->(n:STRONG_NUM)-[:BELONGS_TO]->(d:DICTIONARY)\n",
    "RETURN p,n,d limit 5\n",
    "```\n",
    "\n",
    "To find the occurences of a word/strongs in a bible\n",
    "\n",
    "```\n",
    "MATCH p=((bib:BIBLE)<-[:BELONGS_TO]-(b:BOOK)<-[:BELONGS_TO]-(c:CHAPTER)<-[:BELONGS_TO]-(v:VERSE)<-[:BELONGS_TO]-(w:WORD)-[:HAS_LEMMA]->(s:STRONG_NUM))\n",
    "WHERE s.id = 2424 and bib.name='UGNT4'\n",
    "RETURN p LIMIT 5\n",
    "```\n",
    "\n",
    "To see how a verse is in various bibles\n",
    "\n",
    "```\n",
    "MATCH p=((bib:BIBLE)<-[:BELONGS_TO]-(b:BOOK)<-[:BELONGS_TO]-(c:CHAPTER)<-[:BELONGS_TO]-(v:VERSE)<-[:BELONGS_TO]-(w:WORD))\n",
    "WHERE b.number='40' and c.number='5' and v.number='3' \n",
    "RETURN p\n",
    "```\n",
    "\n",
    "To find all the translations of a particular word/lemma\n",
    "\n",
    "```\n",
    "MATCH (w:WORD)-[:HAS_LEMMA]->(s:STRONG_NUM),\n",
    "(a:WORD)-[:ALIGNS_TO]-(w)\n",
    "WHERE s.id = 2424\n",
    "RETURN w, a limit 3\n",
    "```\n",
    "\n",
    "To find the names from the Bibles without names marked\n",
    "\n",
    "```\n",
    "match (w:WORD)-[:ALIGNS_TO]-(:WORD)-[:IS_TW]-(tw:TRANSLATION_WORD) where tw.type='names' with distinct tw , w return w limit 10\n",
    "```"
   ]
  },
  {
   "cell_type": "markdown",
   "metadata": {},
   "source": [
    "## Neo4j DB Admin"
   ]
  },
  {
   "cell_type": "markdown",
   "metadata": {},
   "source": [
    "### Export\n",
    "\n",
    "To export the graph DB, stop the neo4j service/server, and then,\n",
    "\n",
    "`sudo neo4j-admin dump --database=bible-linkua --to=<destination-path>`\n",
    "\n",
    "### Import\n",
    "\n",
    "To load an archived Graph into the DB, stop the neo4j service/server, and then,\n",
    "\n",
    "`sudo neo4j-admin load --from=Documents/Graph_DB/Neo4j/graph__testAlignedFeb4.db --database=bible-linkua`\n",
    "\n",
    "\n",
    "### Delete\n",
    "\n",
    "To remove a database from the neo4j, go to `/var/lib/neo4j/data/databases` and delete the folder in the corresponding name \n",
    "\n",
    "### Change DB\n",
    "\n",
    "To make neo4j load a different database, go to `/etc/neo4j/neo4j.conf` and update the line, `dbms.active_database=bible-linkua`\n"
   ]
  },
  {
   "cell_type": "markdown",
   "metadata": {},
   "source": [
    "## Py2neo"
   ]
  },
  {
   "cell_type": "code",
   "execution_count": 1,
   "metadata": {},
   "outputs": [],
   "source": [
    "import py2neo\n",
    "from py2neo import Graph, NodeMatcher\n",
    "from py2neo.data import Node, Relationship\n",
    "\n",
    "graph = Graph(password=\"password\")"
   ]
  },
  {
   "cell_type": "markdown",
   "metadata": {},
   "source": [
    "`Node()` creates a new node object in the python run time, but not in the actual graph DB. For that we have to use `create` or `merge`.\n",
    "\n",
    "Merging a node, creates a new node if there is no node already present in the graph, with the specified label, primary key, and value. If one such node is present, that would be matched. "
   ]
  },
  {
   "cell_type": "code",
   "execution_count": null,
   "metadata": {},
   "outputs": [],
   "source": [
    "bibleNode = Node(\"BIBLE\", name=biblename)\n",
    "bibleNode['version'] = 4.0\n",
    "bibleNode['expandedName'] = \"Unfoldingword Greek New Testament\"\n",
    "\n",
    "tx = graph.begin()\n",
    "tx.merge(bibleNode,'BIBLE','name')\n",
    "tx.commit()"
   ]
  },
  {
   "cell_type": "markdown",
   "metadata": {},
   "source": [
    "We can match a relationship using `graph.match()`. But its better to have at least one bound node while doing so. Here `bibleNode` is the bound node and other is specified as `None`.\n",
    "\n",
    "`Relationship()` functions similar to `Node()`"
   ]
  },
  {
   "cell_type": "code",
   "execution_count": null,
   "metadata": {},
   "outputs": [],
   "source": [
    "BookName = 'Matthew'\n",
    "BookNum = '40'\n",
    "\n",
    "tx = graph.begin()\n",
    "\n",
    "bookNode = Node(\"BOOK\",name=BookName,number=BookNum)\n",
    "found = False\n",
    "for rel in graph.match((None,bibleNode), r_type=\"BELONGS_TO\"):\n",
    "    if rel.start_node[\"name\"]==BookName:\n",
    "        bookNode = rel.start_node\n",
    "        found =True \n",
    "if not found:\n",
    "    bookRel = Relationship(bookNode,\"BELONGS_TO\",bibleNode)\n",
    "    bookRel['atIndex'] = BookNum\n",
    "    tx.create(bookRel)\n",
    "    print(\"creating new book-->bible relation\")\n",
    "tx.commit()"
   ]
  }
 ],
 "metadata": {
  "kernelspec": {
   "display_name": "bible-linkua",
   "language": "python",
   "name": "bible-linkua"
  },
  "language_info": {
   "codemirror_mode": {
    "name": "ipython",
    "version": 3
   },
   "file_extension": ".py",
   "mimetype": "text/x-python",
   "name": "python",
   "nbconvert_exporter": "python",
   "pygments_lexer": "ipython3",
   "version": "3.6.5"
  }
 },
 "nbformat": 4,
 "nbformat_minor": 2
}
