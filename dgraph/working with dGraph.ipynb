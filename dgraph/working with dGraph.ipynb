{
 "cells": [
  {
   "cell_type": "markdown",
   "metadata": {},
   "source": [
    "# Vachan Graph\n",
    "\n",
    "### Technologies\n",
    "\n",
    "Graph Database: DGraph\n",
    "Webserver: Python API server, using fastapi framework\n"
   ]
  },
  {
   "cell_type": "markdown",
   "metadata": {},
   "source": [
    "## Run Dgraph\n",
    "\n",
    "To Run(installs if not already present)\n",
    "```\n",
    "sudo docker run --rm -it -p 8080:8080 -p 9080:9080 -p 8000:8000 -v ~/dgraph:/dgraph dgraph/standalone:v20.03.0\n",
    "```\n",
    "\n",
    "Then the UI can be accessed at http://localhost:8000.\n",
    "Alpha will be at http://localhost:8080 and zero at http://localhost:9080.\n",
    "Dgraph data stored in a folder named `dgraph` of your home directory."
   ]
  },
  {
   "cell_type": "markdown",
   "metadata": {},
   "source": [
    "## Resources Added to Graph\n",
    "\n",
    "* Greek Strongs Dictionary: connected to Greek Bible words\n",
    "* English Translation words: connected to Greek Bible words\n",
    "* Greek UGNT NT Bible\n",
    "* Hindi IRV NT Bible\n",
    "* Malayalam IRV NT Bible\n",
    "* English ULB NT Bible\n",
    "* Bibles names collected from factgrid, UBS and Wikidata\n",
    "\n",
    "\n",
    "\n"
   ]
  },
  {
   "cell_type": "markdown",
   "metadata": {},
   "source": [
    "\n"
   ]
  },
  {
   "cell_type": "markdown",
   "metadata": {},
   "source": [
    "## Sample DQL Queries"
   ]
  },
  {
   "cell_type": "markdown",
   "metadata": {},
   "source": [
    "### Plans for presenting the DB in a very simple UI\n",
    "\n",
    "* Parallel bible:\n",
    "\n",
    "To veiw the verses of Greek, Hindi and English parallely. One verse at a time\n",
    "\n",
    "* Alignment:\n",
    "\n",
    "Highlight the aligned words in the parallel verses upon hovering\n",
    "\n",
    "* Translation words:\n",
    "\n",
    "Display names, places and other key-terms in bold(in all languages) and upon clicking on them, open a pop up showing their description(like in wikipedia upon hovering)\n",
    "\n",
    "* English wordnet: \n",
    "\n",
    "Make the words linked to wordnet, clickable. Upon clicking on them open a left pane to show other occurances as exact word, synonym or antonym\n",
    "\n",
    "### How to implement\n",
    "\n",
    "Let the url specify the verse in bcv format. This would invoke a GET method.\n",
    "The GET method should obtain the following info required for displaying, as JSON from the DB\n",
    "* verse text, in 3 languages\n",
    "* word alignments between these verses, which can be embedded into the words in verse text\n",
    "* info of whether it is a translation word, and if yes, its description\n",
    "\n",
    "The JSON should then be coverted to an HTLM with required CSS and js for highlighting, linking and pop-ups.\n",
    "Then this HTML will be returned by the get method"
   ]
  },
  {
   "cell_type": "code",
   "execution_count": null,
   "metadata": {},
   "outputs": [],
   "source": []
  }
 ],
 "metadata": {
  "kernelspec": {
   "display_name": "Python 3",
   "language": "python",
   "name": "python3"
  },
  "language_info": {
   "codemirror_mode": {
    "name": "ipython",
    "version": 3
   },
   "file_extension": ".py",
   "mimetype": "text/x-python",
   "name": "python",
   "nbconvert_exporter": "python",
   "pygments_lexer": "ipython3",
   "version": "3.7.5"
  }
 },
 "nbformat": 4,
 "nbformat_minor": 2
}
